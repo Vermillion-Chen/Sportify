{
  "nbformat": 4,
  "nbformat_minor": 0,
  "metadata": {
    "colab": {
      "name": "WL.ipynb",
      "provenance": [],
      "collapsed_sections": []
    },
    "kernelspec": {
      "name": "python3",
      "display_name": "Python 3"
    },
    "language_info": {
      "name": "python"
    }
  },
  "cells": [
    {
      "cell_type": "code",
      "metadata": {
        "id": "2Q2mX9uNNZp5"
      },
      "source": [
        "!pip install mediapipe\n",
        "!pip install protobuf_to_dict"
      ],
      "execution_count": null,
      "outputs": []
    },
    {
      "cell_type": "code",
      "metadata": {
        "id": "2s0TTvQxad-G"
      },
      "source": [
        "import cv2\n",
        "import mediapipe as mp\n",
        "import time\n",
        "import pandas as pd\n",
        "from protobuf_to_dict import protobuf_to_dict\n",
        "from sklearn import svm\n",
        "import numpy as np\n",
      ],
      "execution_count": null,
      "outputs": []
    },
    {
      "cell_type": "code",
      "metadata": {
        "id": "Wu1a-vgwlvqJ"
      },
      "source": [
        "def im_analysis(f):\n",
        "    cap = cv2.VideoCapture(f)\n",
        "    dummy, img = cap.read()\n",
        "    results = pose.process(img)\n",
        "    keypoints = protobuf_to_dict(results.pose_landmarks).get('landmark') #change long to int & unicode to str for newer version\n",
        "    dfx = pd.DataFrame(data=keypoints).drop(columns=['visibility']).T.reset_index(drop=True)\n",
        "    dfx = dfx.values.reshape(1,99)\n",
        "    return dfx"
      ],
      "execution_count": null,
      "outputs": []
    },
    {
      "cell_type": "code",
      "metadata": {
        "id": "zy1Cyn9YAUd_"
      },
      "source": [
        "mpDraw = mp.solutions.drawing_utils\n",
        "mpPose = mp.solutions.pose\n",
        "pose = mpPose.Pose()\n",
        "G_sample = 1 #number of good/bad samples used\n",
        "B_sample = 1\n",
        "dfx_train = np.zeros(shape=(G_sample+B_Sample,99))\n",
        "dfy_train = np.zeros(shape=(G_sample+B_Sample,1))\n",
        "\n",
        "for i in range(1,G_sample+1): \n",
        "    f = \"G\"+str(i)+\".mp4\"\n",
        "    dfx_train[i-1] = im_analysis(f)\n",
        "    dfy_train[i-1] = np.array([1])\n",
        "\n",
        "for i in range(G_sample+2,B_sample+2): \n",
        "    f = \"B\"+str(i-G_sample-1)+\".mp4\"\n",
        "    dfx_train[i-1] = im_analysis(f)\n",
        "    dfy_train[i-1] = np.array([0])"
      ],
      "execution_count": null,
      "outputs": []
    },
    {
      "cell_type": "code",
      "metadata": {
        "id": "Z6a0BbRnaJ1G"
      },
      "source": [
        "X = dfx_train #first 99 columns, data\n",
        "y = dfy_train #last column labelled right or wrong\n",
        "clf = svm.SVC()\n",
        "clf.fit(X, y)\n",
        "clf.score(X,y)"
      ],
      "execution_count": null,
      "outputs": []
    },
    {
      "cell_type": "code",
      "metadata": {
        "id": "01N9s2sLaMf6"
      },
      "source": [
        "img = ''\n",
        "clf.predict(im_analysis(img))"
      ],
      "execution_count": null,
      "outputs": []
    }
  ]
}
